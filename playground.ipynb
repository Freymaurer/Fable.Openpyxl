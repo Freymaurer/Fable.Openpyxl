{
 "cells": [
  {
   "cell_type": "code",
   "execution_count": 2,
   "metadata": {},
   "outputs": [],
   "source": [
    "import openpyxl"
   ]
  },
  {
   "cell_type": "code",
   "execution_count": 4,
   "metadata": {},
   "outputs": [
    {
     "name": "stdout",
     "output_type": "stream",
     "text": [
      "A1\n"
     ]
    }
   ],
   "source": [
    "path = \"C:\\\\Users\\\\Kevin\\\\Desktop\\\\BookTest.xlsx\"\n",
    "\n",
    "# To open the workbook \n",
    "# workbook object is created\n",
    "wb_obj = openpyxl.load_workbook(path)\n",
    "\n",
    "# Get workbook active sheet object\n",
    "# from the active attribute\n",
    "sheet_obj = wb_obj.active\n",
    "\n",
    "# Cell objects also have a row, column, \n",
    "# and coordinate attributes that provide\n",
    "# location information for the cell.\n",
    " \n",
    "# Note: The first row or \n",
    "# column integer is 1, not 0.\n",
    " \n",
    "# Cell object is created by using \n",
    "# sheet object's cell() method.\n",
    "cell_obj = sheet_obj.cell(row = 1, column = 1)\n",
    " \n",
    "# Print value of cell object \n",
    "# using the value attribute\n",
    "print(cell_obj.value)"
   ]
  },
  {
   "cell_type": "code",
   "execution_count": 7,
   "metadata": {},
   "outputs": [
    {
     "data": {
      "text/plain": [
       "'Table1'"
      ]
     },
     "execution_count": 7,
     "metadata": {},
     "output_type": "execute_result"
    }
   ],
   "source": [
    "from openpyxl import Workbook\n",
    "from openpyxl.worksheet.table import Table, TableStyleInfo\n",
    "\n",
    "tab = Table(displayName=\"Table1\", ref=\"A1:E5\")\n",
    "\n",
    "tab.name = \"Test\"\n",
    "\n",
    "tab.displayName"
   ]
  }
 ],
 "metadata": {
  "kernelspec": {
   "display_name": ".venv",
   "language": "python",
   "name": "python3"
  },
  "language_info": {
   "codemirror_mode": {
    "name": "ipython",
    "version": 3
   },
   "file_extension": ".py",
   "mimetype": "text/x-python",
   "name": "python",
   "nbconvert_exporter": "python",
   "pygments_lexer": "ipython3",
   "version": "3.11.1"
  }
 },
 "nbformat": 4,
 "nbformat_minor": 2
}
